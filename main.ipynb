{
 "cells": [
  {
   "cell_type": "markdown",
   "metadata": {},
   "source": [
    "# An analysis of the State of the Union speeches\n",
    "\n",
    "**Authors:** Sarah Johnson, Chitwan Kaudan, Nadav Tadelis"
   ]
  },
  {
   "cell_type": "code",
   "execution_count": 3,
   "metadata": {},
   "outputs": [],
   "source": [
    "%matplotlib inline\n",
    "import matplotlib.pyplot as plt\n",
    "import numpy as np\n",
    "import pandas as pd\n",
    "import seaborn as sns\n",
    "\n",
    "import shelve\n",
    "import nltk\n",
    "from nltk.stem import PorterStemmer\n",
    "\n",
    "plt.style.use('seaborn-dark')\n",
    "plt.rcParams['figure.figsize'] = (10, 6)"
   ]
  },
  {
   "cell_type": "markdown",
   "metadata": {},
   "source": [
    "## Abstract\n",
    "\n",
    ".. brief summary of your conclusions here"
   ]
  },
  {
   "cell_type": "markdown",
   "metadata": {},
   "source": [
    "## Introduction & Exploring Data Gaps\n",
    "\n",
    "For our dataset (data/stateoftheunion1970-2017) we used Project Gutenberg's EBook of Complete State of the Union Addresses in which speeches after 2002 were pulled from UCSB The American Presidency Project. \n",
    "\n",
    "We first examined our dataset to get a sense of which types of speeches are included, which presidents are represented and if there are significant timeline gaps."
   ]
  },
  {
   "cell_type": "code",
   "execution_count": 8,
   "metadata": {},
   "outputs": [],
   "source": [
    "#Load in our data frame of speech titles, president names and dates from notebook 1\n",
    "addresses = pd.read_hdf('results/df1.h5', 'addresses')"
   ]
  },
  {
   "cell_type": "markdown",
   "metadata": {},
   "source": [
    "We looked into what types of speeches were included in our dataset. "
   ]
  },
  {
   "cell_type": "code",
   "execution_count": 5,
   "metadata": {},
   "outputs": [
    {
     "data": {
      "text/plain": [
       "array([' State of the Union Address', ' Address on Administration Goals',\n",
       "       ' Address on Administration Goals (Budget Message)',\n",
       "       ' Address Before a Joint Session of Congress'], dtype=object)"
      ]
     },
     "execution_count": 5,
     "metadata": {},
     "output_type": "execute_result"
    }
   ],
   "source": [
    "addresses['title'].unique()  "
   ]
  },
  {
   "cell_type": "code",
   "execution_count": 6,
   "metadata": {},
   "outputs": [
    {
     "data": {
      "text/html": [
       "<div>\n",
       "<style>\n",
       "    .dataframe thead tr:only-child th {\n",
       "        text-align: right;\n",
       "    }\n",
       "\n",
       "    .dataframe thead th {\n",
       "        text-align: left;\n",
       "    }\n",
       "\n",
       "    .dataframe tbody tr th {\n",
       "        vertical-align: top;\n",
       "    }\n",
       "</style>\n",
       "<table border=\"1\" class=\"dataframe\">\n",
       "  <thead>\n",
       "    <tr style=\"text-align: right;\">\n",
       "      <th></th>\n",
       "      <th>president</th>\n",
       "      <th>title</th>\n",
       "      <th>date</th>\n",
       "    </tr>\n",
       "  </thead>\n",
       "  <tbody>\n",
       "    <tr>\n",
       "      <th>197</th>\n",
       "      <td>George H.W. Bush</td>\n",
       "      <td>Address on Administration Goals</td>\n",
       "      <td>1989-02-09</td>\n",
       "    </tr>\n",
       "    <tr>\n",
       "      <th>201</th>\n",
       "      <td>William J. Clinton</td>\n",
       "      <td>Address on Administration Goals</td>\n",
       "      <td>1993-02-17</td>\n",
       "    </tr>\n",
       "    <tr>\n",
       "      <th>209</th>\n",
       "      <td>George W. Bush</td>\n",
       "      <td>Address on Administration Goals (Budget Message)</td>\n",
       "      <td>2001-02-27</td>\n",
       "    </tr>\n",
       "    <tr>\n",
       "      <th>218</th>\n",
       "      <td>Barack Obama</td>\n",
       "      <td>Address Before a Joint Session of Congress</td>\n",
       "      <td>2009-02-24</td>\n",
       "    </tr>\n",
       "    <tr>\n",
       "      <th>226</th>\n",
       "      <td>Donald J. Trump</td>\n",
       "      <td>Address Before a Joint Session of Congress</td>\n",
       "      <td>2017-02-27</td>\n",
       "    </tr>\n",
       "  </tbody>\n",
       "</table>\n",
       "</div>"
      ],
      "text/plain": [
       "                president                                              title  \\\n",
       "197      George H.W. Bush                    Address on Administration Goals   \n",
       "201    William J. Clinton                    Address on Administration Goals   \n",
       "209        George W. Bush   Address on Administration Goals (Budget Message)   \n",
       "218          Barack Obama         Address Before a Joint Session of Congress   \n",
       "226       Donald J. Trump         Address Before a Joint Session of Congress   \n",
       "\n",
       "          date  \n",
       "197 1989-02-09  \n",
       "201 1993-02-17  \n",
       "209 2001-02-27  \n",
       "218 2009-02-24  \n",
       "226 2017-02-27  "
      ]
     },
     "execution_count": 6,
     "metadata": {},
     "output_type": "execute_result"
    }
   ],
   "source": [
    "addresses.loc[addresses['title'] != ' State of the Union Address']"
   ]
  },
  {
   "cell_type": "markdown",
   "metadata": {},
   "source": [
    "Although these speeches are not called State of the Union Addresses a quick Google serach reveals that they were all delivered in front of a Joint Session of Congress around the same time a State of the Union address are typically delivered. They also served the same purpose - they informed the Congress and the public the state of the nation and revealed the administrations top priorities for the coming year. For our we considered these speeches as functionally equivalent to State of Union Adresses.\n",
    "\n"
   ]
  },
  {
   "cell_type": "markdown",
   "metadata": {},
   "source": [
    "Next we examined which Presidents were represented and which were not in our dataset."
   ]
  },
  {
   "cell_type": "code",
   "execution_count": 7,
   "metadata": {},
   "outputs": [
    {
     "data": {
      "text/plain": [
       "1           George Washington\n",
       "2                  John Adams\n",
       "3            Thomas Jefferson\n",
       "4               James Madison\n",
       "5                James Monroe\n",
       "6           John Quincy Adams\n",
       "7              Andrew Jackson\n",
       "8            Martin van Buren\n",
       "9                  John Tyler\n",
       "10                 James Polk\n",
       "11             Zachary Taylor\n",
       "12           Millard Fillmore\n",
       "13            Franklin Pierce\n",
       "14             James Buchanan\n",
       "15            Abraham Lincoln\n",
       "16             Andrew Johnson\n",
       "17           Ulysses S. Grant\n",
       "18        Rutherford B. Hayes\n",
       "19          Chester A. Arthur\n",
       "20           Grover Cleveland\n",
       "21          Benjamin Harrison\n",
       "22           William McKinley\n",
       "23         Theodore Roosevelt\n",
       "24            William H. Taft\n",
       "25             Woodrow Wilson\n",
       "26             Warren Harding\n",
       "27            Calvin Coolidge\n",
       "28             Herbert Hoover\n",
       "29      Franklin D. Roosevelt\n",
       "30            Harry S. Truman\n",
       "31       Dwight D. Eisenhower\n",
       "32            John F. Kennedy\n",
       "33          Lyndon B. Johnson\n",
       "34              Richard Nixon\n",
       "35             Gerald R. Ford\n",
       "36               Jimmy Carter\n",
       "37              Ronald Reagan\n",
       "38           George H.W. Bush\n",
       "39         William J. Clinton\n",
       "40             George W. Bush\n",
       "41               Barack Obama\n",
       "42            Donald J. Trump\n",
       "dtype: object"
      ]
     },
     "execution_count": 7,
     "metadata": {},
     "output_type": "execute_result"
    }
   ],
   "source": [
    "#We can list out presidents in order and cross reference a complete list of presidents in order to figure out which ones are missing.\n",
    "pd.Series(addresses['president'].unique(), index = list(range(1, 43)))"
   ]
  },
  {
   "cell_type": "markdown",
   "metadata": {},
   "source": [
    "Donald J. Trump is our 45th President yet our dataset only includes 42 Presidents. The Presidents missing from this list are John Tyler and James A. Garfield who both died within a couple days of gaining office so never had a chance to deliver a State of the Union Address. Also, Grover Cleveland served two non-consecutive terms so he was both the 22nd and the 24th president. \n",
    "\n",
    "Next we plotted Speech Number agaisnt the date they were delivered to looked at whether there were large timeline gaps in out dataset. "
   ]
  },
  {
   "cell_type": "markdown",
   "metadata": {},
   "source": [
    "![Data Gap](fig/timeline.png)"
   ]
  },
  {
   "cell_type": "markdown",
   "metadata": {},
   "source": [
    "The gap from 1893-1897 represents President Cleveland's second term. A quick google search revealed that President Cleveland did deliver written State of the Union Addresses from 1893-1897 but they are not included in our dataset. Suspecting a formatting error, we took a closer look at all of President Cleveland and found that his 1889 State of the Union ends very unexpectedly mid sentence. It appeared like our data cut off part of his speech and didn;t include his speeches from his second term. We kept these descrepencies in mind when doing our analysis on this speeches. "
   ]
  },
  {
   "cell_type": "markdown",
   "metadata": {},
   "source": [
    "## Speech Features Analysis Over Time\n",
    "\n"
   ]
  },
  {
   "cell_type": "markdown",
   "metadata": {},
   "source": [
    "![](fig/feature_dists.png)"
   ]
  },
  {
   "cell_type": "markdown",
   "metadata": {
    "collapsed": true
   },
   "source": [
    "![Speech Changes Over Time](fig/speech_changes.png)"
   ]
  },
  {
   "cell_type": "markdown",
   "metadata": {},
   "source": [
    "![Speech Changes By President](fig/speech_characteristics.png)"
   ]
  },
  {
   "cell_type": "markdown",
   "metadata": {},
   "source": [
    "## Sentiment Analysis"
   ]
  }
 ],
 "metadata": {
  "kernelspec": {
   "display_name": "Python 3",
   "language": "python",
   "name": "python3"
  },
  "language_info": {
   "codemirror_mode": {
    "name": "ipython",
    "version": 3
   },
   "file_extension": ".py",
   "mimetype": "text/x-python",
   "name": "python",
   "nbconvert_exporter": "python",
   "pygments_lexer": "ipython3",
   "version": "3.6.2"
  }
 },
 "nbformat": 4,
 "nbformat_minor": 2
}
