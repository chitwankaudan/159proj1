{
 "cells": [
  {
   "cell_type": "markdown",
   "metadata": {},
   "source": [
    "# An analysis of the State of the Union speeches - Part 2"
   ]
  },
  {
   "cell_type": "code",
   "execution_count": 1,
   "metadata": {
    "collapsed": true
   },
   "outputs": [],
   "source": [
    "%matplotlib inline\n",
    "import matplotlib.pyplot as plt\n",
    "import numpy as np\n",
    "import pandas as pd\n",
    "import seaborn as sns\n",
    "\n",
    "import shelve\n",
    "import nltk\n",
    "from nltk.stem import PorterStemmer\n",
    "\n",
    "plt.style.use('seaborn-dark')\n",
    "plt.rcParams['figure.figsize'] = (10, 6)"
   ]
  },
  {
   "cell_type": "markdown",
   "metadata": {},
   "source": [
    "Let's start by loading some of the data created in the previous part, so we can continue where we left off:"
   ]
  },
  {
   "cell_type": "code",
   "execution_count": 2,
   "metadata": {
    "collapsed": true
   },
   "outputs": [],
   "source": [
    "addresses = pd.read_hdf('results/df1.h5', 'addresses')\n",
    "with shelve.open('results/vars1') as db:\n",
    "    speeches = db['speeches']"
   ]
  },
  {
   "cell_type": "markdown",
   "metadata": {},
   "source": [
    "Let's double-check that we're getting the full set of speeches:"
   ]
  },
  {
   "cell_type": "code",
   "execution_count": 3,
   "metadata": {},
   "outputs": [
    {
     "name": "stdout",
     "output_type": "stream",
     "text": [
      "(227, 3)\n",
      "227\n"
     ]
    }
   ],
   "source": [
    "print(addresses.shape)\n",
    "print(len(speeches))"
   ]
  },
  {
   "cell_type": "markdown",
   "metadata": {},
   "source": [
    "## Basic text analysis\n",
    "\n",
    "Let's ask a few basic questions about this text, by populating our `addresses` dataframe with some extra information. As a reminder, so far we have:"
   ]
  },
  {
   "cell_type": "code",
   "execution_count": 4,
   "metadata": {},
   "outputs": [
    {
     "data": {
      "text/html": [
       "<div>\n",
       "<style>\n",
       "    .dataframe thead tr:only-child th {\n",
       "        text-align: right;\n",
       "    }\n",
       "\n",
       "    .dataframe thead th {\n",
       "        text-align: left;\n",
       "    }\n",
       "\n",
       "    .dataframe tbody tr th {\n",
       "        vertical-align: top;\n",
       "    }\n",
       "</style>\n",
       "<table border=\"1\" class=\"dataframe\">\n",
       "  <thead>\n",
       "    <tr style=\"text-align: right;\">\n",
       "      <th></th>\n",
       "      <th>president</th>\n",
       "      <th>title</th>\n",
       "      <th>date</th>\n",
       "    </tr>\n",
       "  </thead>\n",
       "  <tbody>\n",
       "    <tr>\n",
       "      <th>0</th>\n",
       "      <td>George Washington</td>\n",
       "      <td>State of the Union Address</td>\n",
       "      <td>1790-01-08</td>\n",
       "    </tr>\n",
       "    <tr>\n",
       "      <th>1</th>\n",
       "      <td>George Washington</td>\n",
       "      <td>State of the Union Address</td>\n",
       "      <td>1790-12-08</td>\n",
       "    </tr>\n",
       "    <tr>\n",
       "      <th>2</th>\n",
       "      <td>George Washington</td>\n",
       "      <td>State of the Union Address</td>\n",
       "      <td>1791-10-25</td>\n",
       "    </tr>\n",
       "    <tr>\n",
       "      <th>3</th>\n",
       "      <td>George Washington</td>\n",
       "      <td>State of the Union Address</td>\n",
       "      <td>1792-11-06</td>\n",
       "    </tr>\n",
       "    <tr>\n",
       "      <th>4</th>\n",
       "      <td>George Washington</td>\n",
       "      <td>State of the Union Address</td>\n",
       "      <td>1793-12-03</td>\n",
       "    </tr>\n",
       "  </tbody>\n",
       "</table>\n",
       "</div>"
      ],
      "text/plain": [
       "             president                        title       date\n",
       "0    George Washington   State of the Union Address 1790-01-08\n",
       "1    George Washington   State of the Union Address 1790-12-08\n",
       "2    George Washington   State of the Union Address 1791-10-25\n",
       "3    George Washington   State of the Union Address 1792-11-06\n",
       "4    George Washington   State of the Union Address 1793-12-03"
      ]
     },
     "execution_count": 4,
     "metadata": {},
     "output_type": "execute_result"
    }
   ],
   "source": [
    "addresses.head()"
   ]
  },
  {
   "cell_type": "markdown",
   "metadata": {},
   "source": [
    "Now, let's add the following information to this DF:\n",
    "\n",
    "* `n_words`: number of words in the speech\n",
    "* `n_uwords`: number of *unique* words in the speech\n",
    "* `n_swords`: number of *unique, stemmed* words in the speech\n",
    "* `n_chars`: number of letters in the speech\n",
    "* `n_sent`: number of sentences in the speech\n",
    "\n",
    "For this level of complexity, it's probably best if we go with NLTK. Remember, that `speeches` is our list with all the speeches, indexed in the same way as the `addresses` dataframe:"
   ]
  },
  {
   "cell_type": "code",
   "execution_count": 5,
   "metadata": {
    "collapsed": true
   },
   "outputs": [],
   "source": [
    "from nltk.corpus import stopwords\n",
    "import string\n",
    "\n",
    "def clean_word_tokenize(doc):\n",
    "    \"\"\"custom word tokenizer which removes stop words and punctuation\n",
    "    \n",
    "    Parameters\n",
    "    ----------\n",
    "    doc : string\n",
    "        A document to be tokenized\n",
    "        \n",
    "    Returns\n",
    "    -------\n",
    "    tokens\n",
    "    \"\"\"\n",
    "    # combine stop words and punctuation\n",
    "    stop = stopwords.words(\"english\") + list(string.punctuation)\n",
    "    \n",
    "    # filter out stop words and punctuation and send to lower case\n",
    "    tokens = [token.lower() for token in nltk.word_tokenize(doc) if token not in stop]\n",
    "\n",
    "    return(tokens)\n",
    "    "
   ]
  },
  {
   "cell_type": "code",
   "execution_count": 14,
   "metadata": {},
   "outputs": [
    {
     "data": {
      "text/plain": [
       "626"
      ]
     },
     "execution_count": 14,
     "metadata": {},
     "output_type": "execute_result"
    }
   ],
   "source": [
    "stemmer = PorterStemmer()\n",
    "\n",
    "len(set(stemmer.stem(word) for word in clean_word_tokenize(speeches[2])))\n",
    "#len([stemmer.stem(word) for word in x])\n"
   ]
  },
  {
   "cell_type": "code",
   "execution_count": 7,
   "metadata": {},
   "outputs": [
    {
     "data": {
      "text/plain": [
       "714"
      ]
     },
     "execution_count": 7,
     "metadata": {},
     "output_type": "execute_result"
    }
   ],
   "source": [
    "len(set(clean_word_tokenize(speeches[4])))"
   ]
  },
  {
   "cell_type": "code",
   "execution_count": 10,
   "metadata": {},
   "outputs": [
    {
     "data": {
      "text/plain": [
       "14203"
      ]
     },
     "execution_count": 10,
     "metadata": {},
     "output_type": "execute_result"
    }
   ],
   "source": [
    "len(speeches[2])"
   ]
  },
  {
   "cell_type": "markdown",
   "metadata": {},
   "source": [
    "Now we compute these quantities for each speech, as well as saving the set of unique, stemmed words for each speech, which we'll need later to construct the complete term-document matrix across all speeches."
   ]
  },
  {
   "cell_type": "code",
   "execution_count": 16,
   "metadata": {},
   "outputs": [],
   "source": [
    "addresses['n_sent'] = [len(nltk.sent_tokenize(speech)) for speech in speeches]\n",
    "addresses['n_words_all'] = [len(nltk.word_tokenize(speech)) for speech in speeches]\n",
    "addresses['n_words'] = [len(clean_word_tokenize(speech)) for speech in speeches]\n",
    "addresses['n_uwords'] = [len(set(clean_word_tokenize(speech))) for speech in speeches]\n",
    "addresses['n_swords'] = [len(set(stemmer.stem(word) for word in clean_word_tokenize(speech))) for speech in speeches]\n",
    "addresses['n_chars'] = [len(speech) for speech in speeches]                             "
   ]
  },
  {
   "cell_type": "markdown",
   "metadata": {},
   "source": [
    "Let's look at a summary of these "
   ]
  },
  {
   "cell_type": "code",
   "execution_count": 17,
   "metadata": {},
   "outputs": [
    {
     "data": {
      "text/html": [
       "<div>\n",
       "<style>\n",
       "    .dataframe thead tr:only-child th {\n",
       "        text-align: right;\n",
       "    }\n",
       "\n",
       "    .dataframe thead th {\n",
       "        text-align: left;\n",
       "    }\n",
       "\n",
       "    .dataframe tbody tr th {\n",
       "        vertical-align: top;\n",
       "    }\n",
       "</style>\n",
       "<table border=\"1\" class=\"dataframe\">\n",
       "  <thead>\n",
       "    <tr style=\"text-align: right;\">\n",
       "      <th></th>\n",
       "      <th>president</th>\n",
       "      <th>title</th>\n",
       "      <th>date</th>\n",
       "      <th>n_sent</th>\n",
       "      <th>n_words_all</th>\n",
       "      <th>n_words</th>\n",
       "      <th>n_uwords</th>\n",
       "      <th>n_swords</th>\n",
       "      <th>n_chars</th>\n",
       "    </tr>\n",
       "  </thead>\n",
       "  <tbody>\n",
       "    <tr>\n",
       "      <th>0</th>\n",
       "      <td>George Washington</td>\n",
       "      <td>State of the Union Address</td>\n",
       "      <td>1790-01-08</td>\n",
       "      <td>24</td>\n",
       "      <td>1178</td>\n",
       "      <td>538</td>\n",
       "      <td>395</td>\n",
       "      <td>356</td>\n",
       "      <td>6753</td>\n",
       "    </tr>\n",
       "    <tr>\n",
       "      <th>1</th>\n",
       "      <td>George Washington</td>\n",
       "      <td>State of the Union Address</td>\n",
       "      <td>1790-12-08</td>\n",
       "      <td>40</td>\n",
       "      <td>1515</td>\n",
       "      <td>683</td>\n",
       "      <td>513</td>\n",
       "      <td>463</td>\n",
       "      <td>8455</td>\n",
       "    </tr>\n",
       "    <tr>\n",
       "      <th>2</th>\n",
       "      <td>George Washington</td>\n",
       "      <td>State of the Union Address</td>\n",
       "      <td>1791-10-25</td>\n",
       "      <td>60</td>\n",
       "      <td>2487</td>\n",
       "      <td>1136</td>\n",
       "      <td>731</td>\n",
       "      <td>626</td>\n",
       "      <td>14203</td>\n",
       "    </tr>\n",
       "    <tr>\n",
       "      <th>3</th>\n",
       "      <td>George Washington</td>\n",
       "      <td>State of the Union Address</td>\n",
       "      <td>1792-11-06</td>\n",
       "      <td>61</td>\n",
       "      <td>2298</td>\n",
       "      <td>1042</td>\n",
       "      <td>682</td>\n",
       "      <td>580</td>\n",
       "      <td>12764</td>\n",
       "    </tr>\n",
       "    <tr>\n",
       "      <th>4</th>\n",
       "      <td>George Washington</td>\n",
       "      <td>State of the Union Address</td>\n",
       "      <td>1793-12-03</td>\n",
       "      <td>56</td>\n",
       "      <td>2132</td>\n",
       "      <td>972</td>\n",
       "      <td>714</td>\n",
       "      <td>652</td>\n",
       "      <td>11696</td>\n",
       "    </tr>\n",
       "  </tbody>\n",
       "</table>\n",
       "</div>"
      ],
      "text/plain": [
       "             president                        title       date  n_sent  \\\n",
       "0    George Washington   State of the Union Address 1790-01-08      24   \n",
       "1    George Washington   State of the Union Address 1790-12-08      40   \n",
       "2    George Washington   State of the Union Address 1791-10-25      60   \n",
       "3    George Washington   State of the Union Address 1792-11-06      61   \n",
       "4    George Washington   State of the Union Address 1793-12-03      56   \n",
       "\n",
       "   n_words_all  n_words  n_uwords  n_swords  n_chars  \n",
       "0         1178      538       395       356     6753  \n",
       "1         1515      683       513       463     8455  \n",
       "2         2487     1136       731       626    14203  \n",
       "3         2298     1042       682       580    12764  \n",
       "4         2132      972       714       652    11696  "
      ]
     },
     "execution_count": 17,
     "metadata": {},
     "output_type": "execute_result"
    }
   ],
   "source": [
    "addresses.head()"
   ]
  },
  {
   "cell_type": "code",
   "execution_count": 18,
   "metadata": {
    "scrolled": true
   },
   "outputs": [
    {
     "data": {
      "text/html": [
       "<div>\n",
       "<style>\n",
       "    .dataframe thead tr:only-child th {\n",
       "        text-align: right;\n",
       "    }\n",
       "\n",
       "    .dataframe thead th {\n",
       "        text-align: left;\n",
       "    }\n",
       "\n",
       "    .dataframe tbody tr th {\n",
       "        vertical-align: top;\n",
       "    }\n",
       "</style>\n",
       "<table border=\"1\" class=\"dataframe\">\n",
       "  <thead>\n",
       "    <tr style=\"text-align: right;\">\n",
       "      <th></th>\n",
       "      <th>n_sent</th>\n",
       "      <th>n_words_all</th>\n",
       "      <th>n_words</th>\n",
       "      <th>n_uwords</th>\n",
       "      <th>n_swords</th>\n",
       "      <th>n_chars</th>\n",
       "    </tr>\n",
       "  </thead>\n",
       "  <tbody>\n",
       "    <tr>\n",
       "      <th>count</th>\n",
       "      <td>227.00</td>\n",
       "      <td>227.00</td>\n",
       "      <td>227.00</td>\n",
       "      <td>227.00</td>\n",
       "      <td>227.00</td>\n",
       "      <td>227.00</td>\n",
       "    </tr>\n",
       "    <tr>\n",
       "      <th>mean</th>\n",
       "      <td>266.15</td>\n",
       "      <td>8304.19</td>\n",
       "      <td>4047.24</td>\n",
       "      <td>1639.84</td>\n",
       "      <td>1290.51</td>\n",
       "      <td>45473.15</td>\n",
       "    </tr>\n",
       "    <tr>\n",
       "      <th>std</th>\n",
       "      <td>178.80</td>\n",
       "      <td>5871.69</td>\n",
       "      <td>2900.51</td>\n",
       "      <td>747.67</td>\n",
       "      <td>508.09</td>\n",
       "      <td>33020.36</td>\n",
       "    </tr>\n",
       "    <tr>\n",
       "      <th>min</th>\n",
       "      <td>24.00</td>\n",
       "      <td>1059.00</td>\n",
       "      <td>538.00</td>\n",
       "      <td>395.00</td>\n",
       "      <td>356.00</td>\n",
       "      <td>5649.00</td>\n",
       "    </tr>\n",
       "    <tr>\n",
       "      <th>25%</th>\n",
       "      <td>165.00</td>\n",
       "      <td>4396.00</td>\n",
       "      <td>2190.50</td>\n",
       "      <td>1088.50</td>\n",
       "      <td>914.50</td>\n",
       "      <td>23394.50</td>\n",
       "    </tr>\n",
       "    <tr>\n",
       "      <th>50%</th>\n",
       "      <td>240.00</td>\n",
       "      <td>6655.00</td>\n",
       "      <td>3388.00</td>\n",
       "      <td>1530.00</td>\n",
       "      <td>1246.00</td>\n",
       "      <td>36677.00</td>\n",
       "    </tr>\n",
       "    <tr>\n",
       "      <th>75%</th>\n",
       "      <td>347.50</td>\n",
       "      <td>10055.00</td>\n",
       "      <td>4801.50</td>\n",
       "      <td>1998.50</td>\n",
       "      <td>1552.00</td>\n",
       "      <td>55211.00</td>\n",
       "    </tr>\n",
       "    <tr>\n",
       "      <th>max</th>\n",
       "      <td>1343.00</td>\n",
       "      <td>36974.00</td>\n",
       "      <td>21041.00</td>\n",
       "      <td>4282.00</td>\n",
       "      <td>3015.00</td>\n",
       "      <td>218009.00</td>\n",
       "    </tr>\n",
       "  </tbody>\n",
       "</table>\n",
       "</div>"
      ],
      "text/plain": [
       "        n_sent  n_words_all   n_words  n_uwords  n_swords    n_chars\n",
       "count   227.00       227.00    227.00    227.00    227.00     227.00\n",
       "mean    266.15      8304.19   4047.24   1639.84   1290.51   45473.15\n",
       "std     178.80      5871.69   2900.51    747.67    508.09   33020.36\n",
       "min      24.00      1059.00    538.00    395.00    356.00    5649.00\n",
       "25%     165.00      4396.00   2190.50   1088.50    914.50   23394.50\n",
       "50%     240.00      6655.00   3388.00   1530.00   1246.00   36677.00\n",
       "75%     347.50     10055.00   4801.50   1998.50   1552.00   55211.00\n",
       "max    1343.00     36974.00  21041.00   4282.00   3015.00  218009.00"
      ]
     },
     "execution_count": 18,
     "metadata": {},
     "output_type": "execute_result"
    }
   ],
   "source": [
    "pd.options.display.precision = 2\n",
    "addresses.describe()"
   ]
  },
  {
   "cell_type": "markdown",
   "metadata": {
    "collapsed": true
   },
   "source": [
    "## Visualizing characteristics of the speeches\n",
    "\n",
    "Now we explore some of the relationships between the speeches, their authors, and time.\n",
    "\n",
    "How properties of the speeches change over time."
   ]
  },
  {
   "cell_type": "code",
   "execution_count": 19,
   "metadata": {},
   "outputs": [
    {
     "data": {
      "image/png": "[encoded data removed]",
      "text/plain": [
       "<matplotlib.figure.Figure at 0x11b091c50>"
      ]
     },
     "metadata": {},
     "output_type": "display_data"
    }
   ],
   "source": [
    "# Use Seaborn to provide a plot such as this, and discuss:\n",
    "fig, ax = plt.subplots(3, 2)\n",
    "#ax = sns.barplot(data = w, x = w.Months, y = w.Count, color = 'b');\n",
    "#ax.set_title(\"# of addresses per month\")\n",
    "#ax.set_ylabel('')    \n",
    "#ax.set_xlabel('')\n",
    "\n",
    "#plt.savefig(\"fig/speech_changes.png\")"
   ]
  },
  {
   "cell_type": "markdown",
   "metadata": {},
   "source": [
    "Now for the distributions by president"
   ]
  },
  {
   "cell_type": "code",
   "execution_count": null,
   "metadata": {
    "collapsed": true
   },
   "outputs": [],
   "source": [
    "# YOUR CODE HERE\n",
    "plt.savefig(\"fig/speech_characteristics.png\");"
   ]
  },
  {
   "cell_type": "markdown",
   "metadata": {},
   "source": [
    "## Intermediate results storage\n",
    "\n",
    "Since this may have taken a while, we now serialize the results we have for further use. Note that we don't overwrite our original dataframe file, so we can load both (even though in this notebook we reused the name `addresses`):"
   ]
  },
  {
   "cell_type": "code",
   "execution_count": null,
   "metadata": {
    "collapsed": true
   },
   "outputs": [],
   "source": [
    "addresses.to_hdf('results/df2.h5', 'addresses')\n",
    "\n",
    "with shelve.open('results/vars2') as db:\n",
    "    db['speech_words'] = speech_words\n",
    "    db['speeches_cleaned'] = speeches_cleaned"
   ]
  }
 ],
 "metadata": {
  "kernelspec": {
   "display_name": "Python 3",
   "language": "python",
   "name": "python3"
  },
  "language_info": {
   "codemirror_mode": {
    "name": "ipython",
    "version": 3
   },
   "file_extension": ".py",
   "mimetype": "text/x-python",
   "name": "python",
   "nbconvert_exporter": "python",
   "pygments_lexer": "ipython3",
   "version": "3.6.1"
  }
 },
 "nbformat": 4,
 "nbformat_minor": 2
}
