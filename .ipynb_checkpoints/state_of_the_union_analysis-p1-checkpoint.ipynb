{
 "cells": [
  {
   "cell_type": "markdown",
   "metadata": {},
   "source": [
    "# An analysis of the State of the Union speeches - Part 1"
   ]
  },
  {
   "cell_type": "code",
   "execution_count": 34,
   "metadata": {
    "collapsed": true
   },
   "outputs": [],
   "source": [
    "%matplotlib inline\n",
    "import matplotlib.pyplot as plt\n",
    "import numpy as np\n",
    "import pandas as pd\n",
    "import seaborn as sns\n",
    "\n",
    "import shelve\n",
    "\n",
    "plt.style.use('seaborn-dark')\n",
    "plt.rcParams['figure.figsize'] = (10, 6)"
   ]
  },
  {
   "cell_type": "markdown",
   "metadata": {},
   "source": [
    "This is a \"hollowed out\" version of my complete analysis, leaving you a few results to check your progress:"
   ]
  },
  {
   "cell_type": "code",
   "execution_count": 35,
   "metadata": {},
   "outputs": [
    {
     "data": {
      "text/html": [
       "<div>\n",
       "<style>\n",
       "    .dataframe thead tr:only-child th {\n",
       "        text-align: right;\n",
       "    }\n",
       "\n",
       "    .dataframe thead th {\n",
       "        text-align: left;\n",
       "    }\n",
       "\n",
       "    .dataframe tbody tr th {\n",
       "        vertical-align: top;\n",
       "    }\n",
       "</style>\n",
       "<table border=\"1\" class=\"dataframe\">\n",
       "  <thead>\n",
       "    <tr style=\"text-align: right;\">\n",
       "      <th></th>\n",
       "      <th>president</th>\n",
       "      <th>title</th>\n",
       "      <th>date</th>\n",
       "    </tr>\n",
       "  </thead>\n",
       "  <tbody>\n",
       "    <tr>\n",
       "      <th>0</th>\n",
       "      <td>George Washington</td>\n",
       "      <td>State of the Union Address</td>\n",
       "      <td>1790-01-08</td>\n",
       "    </tr>\n",
       "    <tr>\n",
       "      <th>1</th>\n",
       "      <td>George Washington</td>\n",
       "      <td>State of the Union Address</td>\n",
       "      <td>1790-12-08</td>\n",
       "    </tr>\n",
       "    <tr>\n",
       "      <th>2</th>\n",
       "      <td>George Washington</td>\n",
       "      <td>State of the Union Address</td>\n",
       "      <td>1791-10-25</td>\n",
       "    </tr>\n",
       "    <tr>\n",
       "      <th>3</th>\n",
       "      <td>George Washington</td>\n",
       "      <td>State of the Union Address</td>\n",
       "      <td>1792-11-06</td>\n",
       "    </tr>\n",
       "    <tr>\n",
       "      <th>4</th>\n",
       "      <td>George Washington</td>\n",
       "      <td>State of the Union Address</td>\n",
       "      <td>1793-12-03</td>\n",
       "    </tr>\n",
       "  </tbody>\n",
       "</table>\n",
       "</div>"
      ],
      "text/plain": [
       "             president                        title       date\n",
       "0    George Washington   State of the Union Address 1790-01-08\n",
       "1    George Washington   State of the Union Address 1790-12-08\n",
       "2    George Washington   State of the Union Address 1791-10-25\n",
       "3    George Washington   State of the Union Address 1792-11-06\n",
       "4    George Washington   State of the Union Address 1793-12-03"
      ]
     },
     "execution_count": 35,
     "metadata": {},
     "output_type": "execute_result"
    }
   ],
   "source": [
    "# Addresses is a dataframe with all the basic data for the addresses:\n",
    "addresses = pd.read_csv('./data/stateoftheunion1790-2017.txt', \n",
    "                        header=None, skiprows=10, parse_dates = [[2, 3]], nrows= 227) \n",
    "addresses.columns = [\"date\", \"president\", \"title\"]\n",
    "addresses = addresses[[\"president\", \"title\", \"date\"]]\n",
    "addresses.head()"
   ]
  },
  {
   "cell_type": "markdown",
   "metadata": {},
   "source": [
    "Let's take a first look at a high-level summary of what we have so far:"
   ]
  },
  {
   "cell_type": "code",
   "execution_count": 125,
   "metadata": {},
   "outputs": [
    {
     "data": {
      "text/plain": [
       "count                         227\n",
       "unique                         42\n",
       "top         Franklin D. Roosevelt\n",
       "freq                           12\n",
       "Name: president, dtype: object"
      ]
     },
     "execution_count": 125,
     "metadata": {},
     "output_type": "execute_result"
    }
   ],
   "source": [
    "# Describe the presidents data\n",
    "addresses['president'].describe()"
   ]
  },
  {
   "cell_type": "markdown",
   "metadata": {},
   "source": [
    "Our data includes 227 state of union addresses and covers 42 presidents, so 3 presidents are missing since Donald Trump is our 45th president. FDR has the greatest number speeches at 12 state of the union addresses which makes sense since he was the only president that served 4 terms. Let's investigate which 3 presidents we are missing. "
   ]
  },
  {
   "cell_type": "code",
   "execution_count": 138,
   "metadata": {},
   "outputs": [
    {
     "data": {
      "text/plain": [
       "1           George Washington\n",
       "2                  John Adams\n",
       "3            Thomas Jefferson\n",
       "4               James Madison\n",
       "5                James Monroe\n",
       "6           John Quincy Adams\n",
       "7              Andrew Jackson\n",
       "8            Martin van Buren\n",
       "9                  John Tyler\n",
       "10                 James Polk\n",
       "11             Zachary Taylor\n",
       "12           Millard Fillmore\n",
       "13            Franklin Pierce\n",
       "14             James Buchanan\n",
       "15            Abraham Lincoln\n",
       "16             Andrew Johnson\n",
       "17           Ulysses S. Grant\n",
       "18        Rutherford B. Hayes\n",
       "19          Chester A. Arthur\n",
       "20           Grover Cleveland\n",
       "21          Benjamin Harrison\n",
       "22           William McKinley\n",
       "23         Theodore Roosevelt\n",
       "24            William H. Taft\n",
       "25             Woodrow Wilson\n",
       "26             Warren Harding\n",
       "27            Calvin Coolidge\n",
       "28             Herbert Hoover\n",
       "29      Franklin D. Roosevelt\n",
       "30            Harry S. Truman\n",
       "31       Dwight D. Eisenhower\n",
       "32            John F. Kennedy\n",
       "33          Lyndon B. Johnson\n",
       "34              Richard Nixon\n",
       "35             Gerald R. Ford\n",
       "36               Jimmy Carter\n",
       "37              Ronald Reagan\n",
       "38           George H.W. Bush\n",
       "39         William J. Clinton\n",
       "40             George W. Bush\n",
       "41               Barack Obama\n",
       "42            Donald J. Trump\n",
       "dtype: object"
      ]
     },
     "execution_count": 138,
     "metadata": {},
     "output_type": "execute_result"
    }
   ],
   "source": [
    "#We can list out presidents in order and cross reference a complete list of presidents in order to figure out which ones are missing.\n",
    "pd.Series(addresses['president'].unique(), index = list(range(1, 43)))"
   ]
  },
  {
   "cell_type": "markdown",
   "metadata": {},
   "source": [
    "John Tyler was the 10th president, not the 9th. We're missing William Henry Harrison. So, the reason we are missing William Henry Harrison's speech is because he only held 31 days of presidency before he got pneunomia and died.\n",
    "\n",
    "Chester Arthur was the 21st president not the 19th, we're missing James A. Garfield. James A. Garfield was assasinated 4 months into his presidency and died a month later. \n",
    "\n",
    "And the finally we are missing Grover Cleveland's non-consecutive term since Cleveland was the 22nd and the 24th president."
   ]
  },
  {
   "cell_type": "markdown",
   "metadata": {},
   "source": [
    "Let's find the dates of the first and last address, and how much time has passed between those:"
   ]
  },
  {
   "cell_type": "code",
   "execution_count": 59,
   "metadata": {},
   "outputs": [
    {
     "data": {
      "text/plain": [
       "227.13698630136992"
      ]
     },
     "execution_count": 59,
     "metadata": {},
     "output_type": "execute_result"
    }
   ],
   "source": [
    "# This is roughly the number of years between the first and last address:\n",
    "import calendar\n",
    "\n",
    "#Let first find the min and max dates in the addresses dataframe\n",
    "max = np.max(addresses['date'])\n",
    "min = np.min(addresses['date'])\n",
    "\n",
    "#We'll write a function that converts a date format into decimal years\n",
    "def fractional_year(f_date):\n",
    "    beg_yr = pd.datetime(f_date.year, 1, 1)\n",
    "    days_passed = (f_date - beg_yr).days + 1\n",
    "    if calendar.isleap(f_date.year):\n",
    "        return f_date.year + days_passed/366\n",
    "    else:\n",
    "        return f_date.year + days_passed/365\n",
    "\n",
    "#Now let's convert the max and min dates into decimal years and take their difference\n",
    "fractional_year(max) - fractional_year(min)"
   ]
  },
  {
   "cell_type": "markdown",
   "metadata": {},
   "source": [
    "Let's see during which months are the speeches most frequently delivered:"
   ]
  },
  {
   "cell_type": "code",
   "execution_count": 60,
   "metadata": {},
   "outputs": [
    {
     "data": {
      "text/plain": [
       "date\n",
       "January       75\n",
       "February      12\n",
       "March          0\n",
       "April          0\n",
       "May            0\n",
       "June           0\n",
       "July           0\n",
       "August         0\n",
       "September      2\n",
       "October        3\n",
       "November      11\n",
       "December     124\n",
       "Name: Addresses Count, dtype: int64"
      ]
     },
     "execution_count": 60,
     "metadata": {},
     "output_type": "execute_result"
    }
   ],
   "source": [
    "# This is a count of the number of addresses delivered on any given month\n",
    "\n",
    "#alter addresses df to include all months and a Address Count column\n",
    "if addresses.shape[0] < 239:\n",
    "    addresses[\"Addresses Count\"] = 1\n",
    "    for i in range(1, 13):\n",
    "        addresses.loc[addresses.shape[0]+(i-1)] = [np.nan, np.nan, pd.to_datetime('2018-'+ str(i) + '-1'), 0]\n",
    "\n",
    "#create a acounts series using groupby date and aggregating on the sum of addresses count\n",
    "acounts = addresses.groupby(addresses['date'].dt.strftime('%B'))['Addresses Count'].sum()\n",
    "\n",
    "#reorder acounts series so its monthly chronological\n",
    "months = ['January', 'February', 'March', 'April', 'May', 'June', 'July', 'August', 'September', 'October', 'November', 'December']\n",
    "acounts = acounts.reindex([months])\n",
    "\n",
    "acounts"
   ]
  },
  {
   "cell_type": "code",
   "execution_count": 61,
   "metadata": {},
   "outputs": [
    {
     "data": {
      "text/plain": [
       "(227, 3)"
      ]
     },
     "execution_count": 61,
     "metadata": {},
     "output_type": "execute_result"
    }
   ],
   "source": [
    "#return addresses df to original\n",
    "if addresses.shape[0] > 227:\n",
    "    addresses = addresses[:-12]\n",
    "    addresses = addresses.drop('Addresses Count', axis=1)\n",
    "    \n",
    "addresses.shape"
   ]
  },
  {
   "cell_type": "code",
   "execution_count": 62,
   "metadata": {},
   "outputs": [
    {
     "data": {
      "image/png": "[encoded data removed]",
      "text/plain": [
       "<matplotlib.figure.Figure at 0x1132c6c88>"
      ]
     },
     "metadata": {},
     "output_type": "display_data"
    }
   ],
   "source": [
    "#And this is a plot of these:\n",
    "sns.set_style(\"darkgrid\")\n",
    "\n",
    "w = pd.DataFrame({'Months': months, 'Count':acounts }, columns = ['Months', 'Count'])\n",
    "\n",
    "#Plot count of speeches across months\n",
    "fig, ax = plt.subplots(1, 1)\n",
    "ax = sns.barplot(data = w, x = w.Months, y = w.Count, color = 'navy');\n",
    "ax.set_title(\"# of addresses per month\")\n",
    "ax.set_ylabel('')    \n",
    "ax.set_xlabel('')\n",
    "    \n",
    "plt.savefig('fig/addresses_month.png');"
   ]
  },
  {
   "cell_type": "markdown",
   "metadata": {},
   "source": [
    "Let's look at the distribution of differences between successive speeches:"
   ]
  },
  {
   "cell_type": "markdown",
   "metadata": {},
   "source": [
    "Where is the largest gap? We can ask the `ddiff` series for its location:"
   ]
  },
  {
   "cell_type": "code",
   "execution_count": 77,
   "metadata": {},
   "outputs": [
    {
     "data": {
      "text/plain": [
       "104"
      ]
     },
     "execution_count": 77,
     "metadata": {},
     "output_type": "execute_result"
    }
   ],
   "source": [
    "# This is the index of the largest gap:\n",
    "dates = addresses['date']\n",
    "\n",
    "# Find the difference between subsequent speeches\n",
    "ddiff = pd.Series([dates[i] - dates[i-1] for i in range(1, dates.shape[0])], \n",
    "                  index = [i for i in range(1, 227)])\n",
    "\n",
    "#Find the id of the greatest distance\n",
    "dgap = ddiff.idxmax(axis=0)\n",
    "\n",
    "#Return the id\n",
    "dgap"
   ]
  },
  {
   "cell_type": "markdown",
   "metadata": {},
   "source": [
    "Let's look at the dates around this index:"
   ]
  },
  {
   "cell_type": "code",
   "execution_count": 80,
   "metadata": {},
   "outputs": [
    {
     "data": {
      "text/plain": [
       "102   1891-12-09\n",
       "103   1892-12-06\n",
       "104   1897-12-06\n",
       "105   1898-12-05\n",
       "Name: date, dtype: datetime64[ns]"
      ]
     },
     "execution_count": 80,
     "metadata": {},
     "output_type": "execute_result"
    }
   ],
   "source": [
    "dates[dgap-2 : dgap+2]"
   ]
  },
  {
   "cell_type": "markdown",
   "metadata": {},
   "source": [
    "As well as a plot of these times:"
   ]
  },
  {
   "cell_type": "code",
   "execution_count": 124,
   "metadata": {
    "collapsed": true
   },
   "outputs": [],
   "source": [
    "#We'll first create a series of speech numbers with date as the index\n",
    "dates = pd.Series(list(range(0, 227)), index = addresses.date)"
   ]
  },
  {
   "cell_type": "code",
   "execution_count": 123,
   "metadata": {
    "scrolled": false
   },
   "outputs": [
    {
     "data": {
      "image/png": "[encoded data removed]",
      "text/plain": [
       "<matplotlib.figure.Figure at 0x11b04eeb8>"
      ]
     },
     "metadata": {},
     "output_type": "display_data"
    }
   ],
   "source": [
    "# A plot of the times, along with 'rug' markers on the x axis.\n",
    "f, ax = plt.subplots(1, 1)\n",
    "\n",
    "#Plot the dates on the x axis and speech number on the y axis\n",
    "dates.plot(ax = ax, marker = 'o' );\n",
    "\n",
    "#Add a rug plot of the distribution of dates\n",
    "sns.rugplot(addresses.date, color = 'red');\n",
    "\n",
    "ax.set_title(\"Timeline of State of the Union addresses\")\n",
    "ax.set_ylabel('Speech Number')    \n",
    "ax.set_xlabel('Date')\n",
    "\n",
    "f.savefig('fig/timeline.png')"
   ]
  },
  {
   "cell_type": "markdown",
   "metadata": {},
   "source": [
    "What happened at that gap?\n",
    "\n",
    "So the gap occured from 1893-1897 which was Grover Cleveland's second non-consecutive term. Cleveland did deliver hand written state of the union addresses for each of these 4 years. Quickly examing our data, there doesn't seem to be any issues with formatting. It seems like our dataframe is missing these specches and Cleveland's entire second term."
   ]
  },
  {
   "cell_type": "markdown",
   "metadata": {},
   "source": [
    "## Intermediate results\n",
    "\n",
    "Let's save some intermediate results for further analysis. This lets us work on subsequent notebooks  without rerunning this one.  We use the Pandas HDF5 support for efficient and type-safe serialization of data frames, and the python builtin [shelve](https://docs.python.org/3/library/shelve.html) module for simple Python variables.  We'll create for each notebook variable stores with the notebook number, one for dataframes (`df1.h5`, `df2.h5`, etc.) and one for python variables (`vars1.db`, `vars2.db`, etc.).  These will all go into the `results/` subdirectory."
   ]
  },
  {
   "cell_type": "code",
   "execution_count": 139,
   "metadata": {
    "collapsed": true
   },
   "outputs": [],
   "source": [
    "with open('./data/stateoftheunion1790-2017.txt') as f:\n",
    "        text = f.read()\n",
    "speeches = []\n",
    "pointer = 1\n",
    "\n",
    "while len(speeches) < 227:\n",
    "    start = text.find('***', pointer+5)\n",
    "    end = text.find('***', start+10)\n",
    "    speeches.append(text[start+3:end])\n",
    "    pointer = start\n",
    "    \n"
   ]
  },
  {
   "cell_type": "code",
   "execution_count": 7,
   "metadata": {
    "collapsed": true
   },
   "outputs": [],
   "source": [
    "addresses.to_hdf('results/df1.h5', 'addresses')\n",
    "with shelve.open('results/vars1') as db:\n",
    "    db['speeches'] = speeches"
   ]
  }
 ],
 "metadata": {
  "kernelspec": {
   "display_name": "Python 3",
   "language": "python",
   "name": "python3"
  },
  "language_info": {
   "codemirror_mode": {
    "name": "ipython",
    "version": 3
   },
   "file_extension": ".py",
   "mimetype": "text/x-python",
   "name": "python",
   "nbconvert_exporter": "python",
   "pygments_lexer": "ipython3",
   "version": "3.6.2"
  }
 },
 "nbformat": 4,
 "nbformat_minor": 2
}
